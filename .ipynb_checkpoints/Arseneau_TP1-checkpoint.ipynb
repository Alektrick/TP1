{
 "cells": [
  {
   "cell_type": "markdown",
   "metadata": {},
   "source": [
    "# TP1"
   ]
  },
  {
   "cell_type": "raw",
   "metadata": {},
   "source": [
    "Section 1 : Fusion par pyramide Laplacienne de 2 images"
   ]
  },
  {
   "cell_type": "code",
   "execution_count": 23,
   "metadata": {},
   "outputs": [],
   "source": [
    "import cv2\n",
    "import numpy as np\n",
    "\n",
    "PathImages = 'Images/Harbor/'\n",
    "\n",
    "\n",
    "def Pyr_Laplacienne( img , nlayers ):\n",
    "    \n",
    "    # Laplacienne\n",
    "    Laplacienne = []\n",
    "    \n",
    "    # On downsample\n",
    "    layer = np.copy( img )\n",
    "    \n",
    "    # Pour chaque couche on \n",
    "    # soustrait le downsample par \n",
    "    # le upsample\n",
    "    for _ in range(nlayers):\n",
    "        rows, cols , _ = img.shape\n",
    "        gaussienne = layer \n",
    "        layer = cv2.pyrDown( layer , dstsize = (cols // 2 , rows // 2))\n",
    "        gaussienne_etendue = cv2.pyrUp( layer , dstsize = (cols , rows ) ) \n",
    "        Laplacienne.append( cv2.subtract( gaussienne , gaussienne_etendue  ) )\n",
    "        img = layer\n",
    "    \n",
    "    return Laplacienne\n",
    "        \n",
    "        \n",
    "image = cv2.imread(PathImages+'IzmirHarbor_01.tif')\n",
    "Laplacienne = Pyr_Laplacienne( image , 4 ) \n",
    "for ig , img in enumerate( Laplacienne ) :\n",
    "    cv2.imshow( str(ig) , img )\n",
    "    cv2.waitKey(0)\n",
    "    cv2.destroyAllWindows()"
   ]
  },
  {
   "cell_type": "code",
   "execution_count": 39,
   "metadata": {},
   "outputs": [
    {
     "name": "stdout",
     "output_type": "stream",
     "text": [
      "4 4\n",
      "lap2 plus grande\n",
      "lap2 plus grande\n",
      "lap2 plus grande\n",
      "lap2 plus grande\n"
     ]
    }
   ],
   "source": [
    "def max_lap_pyr(img1,img2,levels):\n",
    "    # Maximum des laplaciens à chaque niveau\n",
    "    Max_Level = [  ]\n",
    "    lap1 = Pyr_Laplacienne(img1,levels)\n",
    "    lap2 = Pyr_Laplacienne(img2,levels)\n",
    "    \n",
    "    print( len( lap1 ) , len( lap2 ) )\n",
    "    for i in range( len( lap1 ) ):\n",
    "        \n",
    "        # Si la somme des pixels de la Laplacienne\n",
    "        # de l'image 1 est plus grande que celle de \n",
    "        # l'image 2\n",
    "        if lap1[i].sum() >= lap2[i].sum() :\n",
    "            print('lap1 plus grande' )\n",
    "            Max_Level.append( lap1[i] )\n",
    "        \n",
    "        # Si la somme des pixels de la Laplacienne\n",
    "        # de l'image 2 est plus grande que celle de \n",
    "        # l'image 1\n",
    "        else:\n",
    "            print('lap2 plus grande' )\n",
    "            Max_Level.append( lap2[i] )\n",
    "        \n",
    "    return Max_Level\n",
    "\n",
    "image2 = cv2.imread(PathImages+'IzmirHarbor_02.tif')\n",
    "Maximum = max_lap_pyr( image , image2 , 4 )   \n",
    "\n",
    "for ig , img in enumerate( Maximum ) :\n",
    "    cv2.imshow( str(ig) , img )\n",
    "    cv2.waitKey(0)\n",
    "    cv2.destroyAllWindows()"
   ]
  },
  {
   "cell_type": "code",
   "execution_count": null,
   "metadata": {},
   "outputs": [],
   "source": []
  }
 ],
 "metadata": {
  "kernelspec": {
   "display_name": "Python 3",
   "language": "python",
   "name": "python3"
  },
  "language_info": {
   "codemirror_mode": {
    "name": "ipython",
    "version": 3
   },
   "file_extension": ".py",
   "mimetype": "text/x-python",
   "name": "python",
   "nbconvert_exporter": "python",
   "pygments_lexer": "ipython3",
   "version": "3.7.3"
  }
 },
 "nbformat": 4,
 "nbformat_minor": 2
}
