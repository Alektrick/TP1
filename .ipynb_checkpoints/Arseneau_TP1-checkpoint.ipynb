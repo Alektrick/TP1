{
 "cells": [
  {
   "cell_type": "markdown",
   "metadata": {},
   "source": [
    "# TP1"
   ]
  },
  {
   "cell_type": "raw",
   "metadata": {},
   "source": [
    "Section 1 : Fusion par pyramide Laplacienne de 2 images"
   ]
  },
  {
   "cell_type": "code",
   "execution_count": 23,
   "metadata": {},
   "outputs": [],
   "source": [
    "import cv2\n",
    "import numpy as np\n",
    "\n",
    "PathImages = 'Images/Harbor/'\n",
    "\n",
    "\n",
    "def Pyr_Laplacienne( img , nlayers ):\n",
    "    \n",
    "    # Laplacienne\n",
    "    Laplacienne = []\n",
    "    \n",
    "    # On downsample\n",
    "    layer = np.copy( img )\n",
    "    \n",
    "    # Pour chaque couche on \n",
    "    # soustrait le downsample par \n",
    "    # le upsample\n",
    "    for _ in range(nlayers):\n",
    "        rows, cols , _ = img.shape\n",
    "        gaussienne = layer \n",
    "        layer = cv2.pyrDown( layer , dstsize = (cols // 2 , rows // 2))\n",
    "        gaussienne_etendue = cv2.pyrUp( layer , dstsize = (cols , rows ) ) \n",
    "        Laplacienne.append( cv2.subtract( gaussienne , gaussienne_etendue  ) )\n",
    "        img = layer\n",
    "    \n",
    "    return Laplacienne\n",
    "        \n",
    "        \n",
    "image = cv2.imread(PathImages+'IzmirHarbor_01.tif')\n",
    "Laplacienne = Pyr_Laplacienne( image , 4 ) \n",
    "for ig , img in enumerate( Laplacienne ) :\n",
    "    cv2.imshow( str(ig) , img )\n",
    "    cv2.waitKey(0)\n",
    "    cv2.destroyAllWindows()"
   ]
  },
  {
   "cell_type": "code",
   "execution_count": null,
   "metadata": {},
   "outputs": [],
   "source": []
  }
 ],
 "metadata": {
  "kernelspec": {
   "display_name": "Python 3",
   "language": "python",
   "name": "python3"
  },
  "language_info": {
   "codemirror_mode": {
    "name": "ipython",
    "version": 3
   },
   "file_extension": ".py",
   "mimetype": "text/x-python",
   "name": "python",
   "nbconvert_exporter": "python",
   "pygments_lexer": "ipython3",
   "version": "3.7.3"
  }
 },
 "nbformat": 4,
 "nbformat_minor": 2
}
